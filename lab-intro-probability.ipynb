{
 "cells": [
  {
   "cell_type": "markdown",
   "metadata": {},
   "source": [
    "# Lab | Intro to Probability"
   ]
  },
  {
   "cell_type": "markdown",
   "metadata": {},
   "source": [
    "**Objective**\n",
    "\n",
    "Welcome to this Intro to Probability lab, where we explore decision-making scenarios through the lens of probability and strategic analysis. In the business world, making informed decisions is crucial, especially when faced with uncertainties. This lab focuses on scenarios where probabilistic outcomes play a significant role in shaping strategies and outcomes. Students will engage in exercises that require assessing and choosing optimal paths based on data-driven insights. The goal is to enhance your skills by applying probability concepts to solve real-world problems."
   ]
  },
  {
   "cell_type": "markdown",
   "metadata": {},
   "source": [
    "**Challenge 1**"
   ]
  },
  {
   "cell_type": "markdown",
   "metadata": {},
   "source": [
    "#### Ironhack Airlines \n",
    "\n",
    "Often Airlines sell more tickets than they have seats available, this is called overbooking. Consider the following:\n",
    "- A plane has 450 seats. \n",
    "- Based on historical data we conclude that each individual passenger has a 3% chance of missing it's flight. \n",
    "\n",
    "If the Ironhack Airlines routinely sells 460 tickets, what is the chance that they have a seats for all passenger?"
   ]
  },
  {
   "cell_type": "code",
   "execution_count": 2,
   "metadata": {},
   "outputs": [
    {
     "name": "stdout",
     "output_type": "stream",
     "text": [
      "Probabilidad usando distribución binomial: 0.8845 (88.45%)\n"
     ]
    }
   ],
   "source": [
    "from scipy.stats import binom\n",
    "\n",
    "# Parámetros de la distribución binomial\n",
    "n = 460  # Total de boletos vendidos\n",
    "p = 0.97  # Probabilidad de que un pasajero se presente\n",
    "seats = 450  # Número de asientos disponibles\n",
    "\n",
    "# Calcular la probabilidad\n",
    "probability_binomial = binom.cdf(seats, n, p)\n",
    "\n",
    "# Mostrar resultado\n",
    "print(f\"Probabilidad usando distribución binomial: {probability_binomial:.4f} ({probability_binomial * 100:.2f}%)\")"
   ]
  },
  {
   "cell_type": "markdown",
   "metadata": {},
   "source": [
    "**Challenge 2**"
   ]
  },
  {
   "cell_type": "markdown",
   "metadata": {},
   "source": [
    "#### Ironhack Call Center "
   ]
  },
  {
   "cell_type": "markdown",
   "metadata": {},
   "source": [
    "Suppose a customer service representative at a call center is handling customer complaints. Consider the following:\n",
    "- The probability of successfully resolving a customer complaint on the first attempt is 0.3. \n",
    "\n",
    "\n",
    "What is the probability that the representative needs to make at least three attempts before successfully resolving a customer complaint?"
   ]
  },
  {
   "cell_type": "code",
   "execution_count": 3,
   "metadata": {},
   "outputs": [
    {
     "name": "stdout",
     "output_type": "stream",
     "text": [
      "Probabilidad de necesitar al menos 3 intentos: 0.4900 (49.00%)\n"
     ]
    }
   ],
   "source": [
    "#code here\n",
    "from scipy.stats import geom\n",
    "\n",
    "# Parámetro de la distribución geométrica\n",
    "p = 0.3  # Probabilidad de éxito\n",
    "\n",
    "# Calcular P(X >= 3)\n",
    "p_at_least_3 = 1 - geom.cdf(2, p)  # 1 - P(X <= 2)\n",
    "\n",
    "# Mostrar resultados\n",
    "print(f\"Probabilidad de necesitar al menos 3 intentos: {p_at_least_3:.4f} ({p_at_least_3 * 100:.2f}%)\")\n"
   ]
  },
  {
   "cell_type": "markdown",
   "metadata": {},
   "source": [
    "**Challenge 3**"
   ]
  },
  {
   "cell_type": "markdown",
   "metadata": {},
   "source": [
    "#### Ironhack Website"
   ]
  },
  {
   "cell_type": "markdown",
   "metadata": {},
   "source": [
    "Consider a scenario related to Ironhack website traffic. Where:\n",
    "- our website takes on average 500 visits per hour.\n",
    "- the website's server is designed to handle up to 550 vists per hour.\n",
    "\n",
    "\n",
    "What is the probability of the website server being overwhelmed?"
   ]
  },
  {
   "cell_type": "code",
   "execution_count": 4,
   "metadata": {},
   "outputs": [
    {
     "name": "stdout",
     "output_type": "stream",
     "text": [
      "Probabilidad de que el servidor sea sobrecargado: 0.0129 (1.29%)\n"
     ]
    }
   ],
   "source": [
    "#code here\n",
    "from scipy.stats import poisson\n",
    "\n",
    "# Parámetros de la distribución Poisson\n",
    "lambda_ = 500  # Promedio de visitas por hora\n",
    "server_limit = 550  # Capacidad máxima del servidor\n",
    "\n",
    "# Calcular la probabilidad de sobrecarga\n",
    "probability_overload = 1 - poisson.cdf(server_limit, lambda_)\n",
    "\n",
    "# Mostrar el resultado\n",
    "print(f\"Probabilidad de que el servidor sea sobrecargado: {probability_overload:.4f} ({probability_overload * 100:.2f}%)\")\n"
   ]
  },
  {
   "cell_type": "markdown",
   "metadata": {},
   "source": [
    "What is the probability of being overwhelmed at some point during a day? (consider 24hours)\n"
   ]
  },
  {
   "cell_type": "code",
   "execution_count": 5,
   "metadata": {},
   "outputs": [
    {
     "name": "stdout",
     "output_type": "stream",
     "text": [
      "La probabilidad de que el servidor sea sobrecargado en algún momento durante un día es: 0.2677043869515715\n"
     ]
    }
   ],
   "source": [
    "#code here\n",
    "prob_not_overload = poisson.cdf(server_limit, lambda_)\n",
    "\n",
    "prob_not_overload_24h = prob_not_overload ** 24\n",
    "\n",
    "prob_overload_24h = 1 - prob_not_overload_24h\n",
    "\n",
    "print(f\"La probabilidad de que el servidor sea sobrecargado en algún momento durante un día es: {prob_overload_24h}\")"
   ]
  },
  {
   "cell_type": "markdown",
   "metadata": {},
   "source": [
    "**Challenge 4**"
   ]
  },
  {
   "cell_type": "markdown",
   "metadata": {},
   "source": [
    "#### Ironhack Helpdesk"
   ]
  },
  {
   "cell_type": "markdown",
   "metadata": {},
   "source": [
    "Consider a scenario related to the time between arrivals of customers at a service desk.\n",
    "\n",
    "On average, a customers arrives every 10minutes.\n",
    "\n",
    "What is the probability that the next customer will arrive within the next 5 minutes?"
   ]
  },
  {
   "cell_type": "code",
   "execution_count": 6,
   "metadata": {},
   "outputs": [
    {
     "name": "stdout",
     "output_type": "stream",
     "text": [
      "La probabilidad de que el próximo cliente llegue dentro de los próximos 5 minutos es: 0.3934693402873666\n"
     ]
    }
   ],
   "source": [
    "from scipy.stats import expon\n",
    "\n",
    "# Parámetros\n",
    "mean_time_between_arrivals = 10  # tiempo promedio entre llegadas en minutos\n",
    "rate = 1 / mean_time_between_arrivals  # tasa de llegada de clientes (lambda)\n",
    "time_interval = 5  # intervalo de tiempo en minutos\n",
    "\n",
    "# Calcular la probabilidad de que el próximo cliente llegue dentro de los próximos 5 minutos\n",
    "prob_within_5_minutes = expon.cdf(time_interval, scale=1/rate)\n",
    "\n",
    "print(f\"La probabilidad de que el próximo cliente llegue dentro de los próximos 5 minutos es: {prob_within_5_minutes}\")"
   ]
  },
  {
   "cell_type": "markdown",
   "metadata": {},
   "source": [
    "If there is no customer for 15minutes, employees can that a 5minutes break.\n",
    "\n",
    "What is the probability an employee taking a break?"
   ]
  },
  {
   "cell_type": "code",
   "execution_count": 7,
   "metadata": {},
   "outputs": [
    {
     "name": "stdout",
     "output_type": "stream",
     "text": [
      "La probabilidad de que no llegue ningún cliente en los próximos 15 minutos es: 0.7768698398515702\n"
     ]
    }
   ],
   "source": [
    "# Parámetros\n",
    "mean_time_between_arrivals = 10  # tiempo promedio entre llegadas en minutos\n",
    "rate = 1 / mean_time_between_arrivals  # tasa de llegada de clientes (lambda)\n",
    "time_interval = 15  # intervalo de tiempo en minutos\n",
    "\n",
    "# Calcular la probabilidad de que no llegue ningún cliente en los próximos 15 minutos\n",
    "prob_no_customer_15_minutes = expon.cdf(time_interval, scale=1/rate)\n",
    "\n",
    "print(f\"La probabilidad de que no llegue ningún cliente en los próximos 15 minutos es: {prob_no_customer_15_minutes}\")"
   ]
  },
  {
   "cell_type": "markdown",
   "metadata": {},
   "source": [
    "**Challenge 5**"
   ]
  },
  {
   "cell_type": "markdown",
   "metadata": {},
   "source": [
    "The weights of a certain species of birds follow a normal distribution with a mean weight of 150 grams and a standard deviation of 10 grams. \n",
    "\n",
    "- If we randomly select a bird, what is the probability that its weight is between 140 and 160 grams?"
   ]
  },
  {
   "cell_type": "code",
   "execution_count": 8,
   "metadata": {},
   "outputs": [
    {
     "name": "stdout",
     "output_type": "stream",
     "text": [
      "La probabilidad de que el peso de un pájaro esté entre 140 y 160 gramos es: 0.6826894921370859\n"
     ]
    }
   ],
   "source": [
    "#code here\n",
    "\n",
    "from scipy.stats import norm\n",
    "\n",
    "# Parámetros\n",
    "mean_weight = 150  # media en gramos\n",
    "std_dev = 10  # desviación estándar en gramos\n",
    "\n",
    "# Valores específicos para calcular la probabilidad\n",
    "lower_bound = 140\n",
    "upper_bound = 160\n",
    "\n",
    "# Calcular la probabilidad de que el peso esté entre 140 y 160 gramos\n",
    "prob_between_140_and_160 = norm.cdf(upper_bound, mean_weight, std_dev) - norm.cdf(lower_bound, mean_weight, std_dev)\n",
    "\n",
    "print(f\"La probabilidad de que el peso de un pájaro esté entre 140 y 160 gramos es: {prob_between_140_and_160}\")   "
   ]
  },
  {
   "cell_type": "markdown",
   "metadata": {},
   "source": [
    "**Challenge 6**"
   ]
  },
  {
   "cell_type": "markdown",
   "metadata": {},
   "source": [
    "If the lifetime (in hours) of a certain electronic component follows an exponential distribution with a mean lifetime of 50 hours, what is the probability that the component fails within the first 30 hours?"
   ]
  },
  {
   "cell_type": "code",
   "execution_count": 9,
   "metadata": {},
   "outputs": [
    {
     "name": "stdout",
     "output_type": "stream",
     "text": [
      "La probabilidad de que el componente falle dentro de las primeras 30 horas es: 0.4511883639059735\n"
     ]
    }
   ],
   "source": [
    "#code here\n",
    "\n",
    "# Parámetros\n",
    "mean_lifetime = 50  # vida útil promedio en horas\n",
    "rate = 1 / mean_lifetime  # tasa de fallo (lambda)\n",
    "time_interval = 30  # intervalo de tiempo en horas\n",
    "\n",
    "# Calcular la probabilidad de que el componente falle dentro de las primeras 30 horas\n",
    "prob_fail_within_30_hours = expon.cdf(time_interval, scale=1/rate)\n",
    "\n",
    "print(f\"La probabilidad de que el componente falle dentro de las primeras 30 horas es: {prob_fail_within_30_hours}\")\n"
   ]
  }
 ],
 "metadata": {
  "kernelspec": {
   "display_name": "Python 3",
   "language": "python",
   "name": "python3"
  },
  "language_info": {
   "codemirror_mode": {
    "name": "ipython",
    "version": 3
   },
   "file_extension": ".py",
   "mimetype": "text/x-python",
   "name": "python",
   "nbconvert_exporter": "python",
   "pygments_lexer": "ipython3",
   "version": "3.13.0"
  }
 },
 "nbformat": 4,
 "nbformat_minor": 2
}
